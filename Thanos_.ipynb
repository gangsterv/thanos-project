{
 "cells": [
  {
   "cell_type": "markdown",
   "metadata": {},
   "source": [
    "<img src=\"thanos.jpg\">"
   ]
  },
  {
   "cell_type": "markdown",
   "metadata": {},
   "source": [
    "# Thanos Project\n",
    "\n",
    "##### Thanos has aqcuired the infinity gauntlet, and with one snap of his fingers he will kill half the people in the universe. For this project, you need to create the following functions:\n",
    "\n",
    "1. `get_universe_people`: This function returns a list of the name of the people (files) in `universe` folder\n",
    "2. `kill_person`: This function takes as input the name of the person (file) and kills them (deletes it) \n",
    "3. `thanos_snap`: This function calculates the number of the people (files) in the `universe` folder and kills them (deletes them)\n",
    "\n",
    "Test your functions using the necessary code and run the thanos snap. Validate that half the population is dead!"
   ]
  },
  {
   "cell_type": "code",
   "execution_count": 11,
   "metadata": {},
   "outputs": [],
   "source": [
    "# Import required modules\n",
    "import os\n",
    "import random\n",
    "import time"
   ]
  },
  {
   "cell_type": "code",
   "execution_count": 2,
   "metadata": {},
   "outputs": [],
   "source": [
    "def get_universe_people(universe_folder=\"parallel_backup\"):\n",
    "    people = os.listdir(universe_folder)\n",
    "    return people"
   ]
  },
  {
   "cell_type": "code",
   "execution_count": 4,
   "metadata": {},
   "outputs": [],
   "source": [
    "def kill_person(name, universe_folder=\"parallel_backup\"):\n",
    "    print(\"Killing:\", name)\n",
    "    os.remove(f\"{universe_folder}/{name}\")"
   ]
  },
  {
   "cell_type": "code",
   "execution_count": 5,
   "metadata": {},
   "outputs": [],
   "source": [
    "universe = get_universe_people()"
   ]
  },
  {
   "cell_type": "code",
   "execution_count": 6,
   "metadata": {},
   "outputs": [
    {
     "data": {
      "text/plain": [
       "['Adam Sandler.jpg',\n",
       " 'Angelina Julie.png',\n",
       " 'Ariana Grande.jpeg',\n",
       " 'Bruce Lee.jpg',\n",
       " 'Dwayne Johnson.jpg',\n",
       " 'Elton John.jpg',\n",
       " 'Jackie Chan.jpg',\n",
       " 'Jeff Bezos.jpg',\n",
       " 'Jennifer Aniston.jpg',\n",
       " 'Jerry Seinfeld.jpg',\n",
       " 'Johnny Depp.jpg',\n",
       " 'Julia Roberts.jpg',\n",
       " 'Kate Upton.jpg',\n",
       " 'Keanu Reeves.jpg',\n",
       " 'Kevin Hart.jpg',\n",
       " 'Mark Ruffalo.jpg',\n",
       " 'Michael Jordan.jpg',\n",
       " 'Miranda Cosgrove.jpg',\n",
       " 'Neil Patrick Harris.jpg',\n",
       " 'Nicole Kidman.jpg',\n",
       " 'Robin Williams.jpg',\n",
       " 'Steve Carell.jpg',\n",
       " 'Sylvester Stallone.jpg',\n",
       " 'Tom Cruise.jpg',\n",
       " 'Will Smith.jpg']"
      ]
     },
     "execution_count": 6,
     "metadata": {},
     "output_type": "execute_result"
    }
   ],
   "source": [
    "universe"
   ]
  },
  {
   "cell_type": "code",
   "execution_count": 7,
   "metadata": {},
   "outputs": [
    {
     "data": {
      "text/plain": [
       "'Steve Carell.jpg'"
      ]
     },
     "execution_count": 7,
     "metadata": {},
     "output_type": "execute_result"
    }
   ],
   "source": [
    "random.choice(universe)"
   ]
  },
  {
   "cell_type": "code",
   "execution_count": 8,
   "metadata": {},
   "outputs": [
    {
     "data": {
      "text/plain": [
       "25"
      ]
     },
     "execution_count": 8,
     "metadata": {},
     "output_type": "execute_result"
    }
   ],
   "source": [
    "len(universe)"
   ]
  },
  {
   "cell_type": "code",
   "execution_count": 9,
   "metadata": {},
   "outputs": [
    {
     "data": {
      "text/plain": [
       "12.5"
      ]
     },
     "execution_count": 9,
     "metadata": {},
     "output_type": "execute_result"
    }
   ],
   "source": [
    "len(universe) / 2"
   ]
  },
  {
   "cell_type": "code",
   "execution_count": 10,
   "metadata": {},
   "outputs": [
    {
     "data": {
      "text/plain": [
       "12"
      ]
     },
     "execution_count": 10,
     "metadata": {},
     "output_type": "execute_result"
    }
   ],
   "source": [
    "len(universe) // 2"
   ]
  },
  {
   "cell_type": "code",
   "execution_count": 14,
   "metadata": {},
   "outputs": [],
   "source": [
    "def thanos_snap():\n",
    "    universe = get_universe_people()\n",
    "    half_universe = len(universe) // 2\n",
    "    \n",
    "    # For loop to kill half the universe\n",
    "    for _ in range(half_universe):\n",
    "        # Choose random person and kill it\n",
    "        random_victim = random.choice(universe)\n",
    "        kill_person(random_victim)\n",
    "\n",
    "        # Remove person from universe to avoid duplicate delete\n",
    "        universe.remove(random_victim)\n",
    "\n",
    "        # Wait for one second\n",
    "        time.sleep(1)\n",
    "    \n",
    "    print(\"Perfectly balanced, as all things should be\")"
   ]
  },
  {
   "cell_type": "code",
   "execution_count": 15,
   "metadata": {},
   "outputs": [
    {
     "name": "stdout",
     "output_type": "stream",
     "text": [
      "Killing: Kate Upton.jpg\n",
      "Killing: Kevin Hart.jpg\n",
      "Killing: Miranda Cosgrove.jpg\n",
      "Killing: Jerry Seinfeld.jpg\n",
      "Killing: Jeff Bezos.jpg\n",
      "Killing: Julia Roberts.jpg\n",
      "Killing: Tom Cruise.jpg\n",
      "Killing: Elton John.jpg\n",
      "Killing: Angelina Julie.png\n",
      "Killing: Sylvester Stallone.jpg\n",
      "Killing: Adam Sandler.jpg\n",
      "Killing: Michael Jordan.jpg\n",
      "Perfectly balanced, as all things should be\n"
     ]
    }
   ],
   "source": [
    "# Perform the snap\n",
    "thanos_snap()"
   ]
  },
  {
   "cell_type": "code",
   "execution_count": 16,
   "metadata": {},
   "outputs": [
    {
     "data": {
      "text/plain": [
       "['Ariana Grande.jpeg',\n",
       " 'Bruce Lee.jpg',\n",
       " 'Dwayne Johnson.jpg',\n",
       " 'Jackie Chan.jpg',\n",
       " 'Jennifer Aniston.jpg',\n",
       " 'Johnny Depp.jpg',\n",
       " 'Keanu Reeves.jpg',\n",
       " 'Mark Ruffalo.jpg',\n",
       " 'Neil Patrick Harris.jpg',\n",
       " 'Nicole Kidman.jpg',\n",
       " 'Robin Williams.jpg',\n",
       " 'Steve Carell.jpg',\n",
       " 'Will Smith.jpg']"
      ]
     },
     "execution_count": 16,
     "metadata": {},
     "output_type": "execute_result"
    }
   ],
   "source": [
    "get_universe_people()"
   ]
  }
 ],
 "metadata": {
  "interpreter": {
   "hash": "911cfdf4ee29fcb964d36255e478fd122ddd7ef148a5798ecfb832de08390f17"
  },
  "kernelspec": {
   "display_name": "Python 3.9.6 64-bit",
   "language": "python",
   "name": "python3"
  },
  "language_info": {
   "codemirror_mode": {
    "name": "ipython",
    "version": 3
   },
   "file_extension": ".py",
   "mimetype": "text/x-python",
   "name": "python",
   "nbconvert_exporter": "python",
   "pygments_lexer": "ipython3",
   "version": "3.8.5"
  },
  "orig_nbformat": 4
 },
 "nbformat": 4,
 "nbformat_minor": 2
}
